{
 "cells": [
  {
   "cell_type": "markdown",
   "metadata": {},
   "source": [
    "# Exercises pandas Series"
   ]
  },
  {
   "cell_type": "code",
   "execution_count": 1,
   "metadata": {},
   "outputs": [],
   "source": [
    "#Import the necessary packages\n",
    "import pandas as pd\n",
    "\n",
    "\n"
   ]
  },
  {
   "cell_type": "markdown",
   "metadata": {},
   "source": [
    "## 1. Train delay\n",
    "### Part 1"
   ]
  },
  {
   "cell_type": "markdown",
   "metadata": {},
   "source": [
    "`delay_data` is a dictionary containing the average delay (in minutes) the trains of a certain station have. \n",
    "* Create a Series `train_delay` using this dictionary"
   ]
  },
  {
   "cell_type": "code",
   "execution_count": 3,
   "metadata": {},
   "outputs": [
    {
     "data": {
      "text/plain": [
       "Brussel      6.34\n",
       "Antwerpen    5.45\n",
       "Brugge       4.12\n",
       "Gent         2.45\n",
       "Hasselt      6.08\n",
       "dtype: float64"
      ]
     },
     "execution_count": 3,
     "metadata": {},
     "output_type": "execute_result"
    }
   ],
   "source": [
    "delay_data = {\"Brussel\": 6.34, \"Antwerpen\": 5.45, \"Brugge\": 4.12, \"Gent\": 2.45, \"Hasselt\": 6.08}\n",
    "train_delay = pd.Series(delay_data)\n",
    "train_delay\n",
    "# Your code"
   ]
  },
  {
   "cell_type": "markdown",
   "metadata": {},
   "source": [
    "Some cities have several stations, which is not specified in the dictionary. Change the index of Brussel, Antwerpen and Gent, to Brussel-Centraal, Antwerpen-Centraal and Gent-Sint-Pieters respectively."
   ]
  },
  {
   "cell_type": "code",
   "execution_count": 41,
   "metadata": {},
   "outputs": [
    {
     "data": {
      "text/plain": [
       "Brussel-Centraal      6.34\n",
       "Antwerpen-Centraal    5.45\n",
       "Brugge                4.12\n",
       "Gent-Sint-Pieters     2.45\n",
       "Hasselt               6.08\n",
       "dtype: float64"
      ]
     },
     "execution_count": 41,
     "metadata": {},
     "output_type": "execute_result"
    }
   ],
   "source": [
    "# Your code\n",
    "train_delay.index = [\"Brussel-Centraal\",\"Antwerpen-Centraal\",\"Brugge\", \"Gent-Sint-Pieters\", \"Hasselt\"]\n",
    "train_delay"
   ]
  },
  {
   "cell_type": "markdown",
   "metadata": {},
   "source": [
    "* Create a new Series only containing the data of Brussels and Gent."
   ]
  },
  {
   "cell_type": "code",
   "execution_count": 62,
   "metadata": {},
   "outputs": [
    {
     "name": "stdout",
     "output_type": "stream",
     "text": [
      "Brussel    6.34\n",
      "Gent       2.45\n",
      "dtype: float64\n",
      "Brussel-Centraal      8.34\n",
      "Antwerpen-Centraal    5.45\n",
      "Brugge                4.12\n",
      "Gent-Sint-Pieters     2.45\n",
      "Hasselt               6.08\n",
      "dtype: float64\n"
     ]
    }
   ],
   "source": [
    "# Your code\n",
    "delay_sh = pd.Series(delay_data, index=[\"Brussel\", \"Gent\"])\n",
    "print(delay_sh)\n",
    "print(train_delay)\n"
   ]
  },
  {
   "cell_type": "markdown",
   "metadata": {},
   "source": [
    "### Train delay part 2"
   ]
  },
  {
   "cell_type": "markdown",
   "metadata": {},
   "source": [
    "* Display the average delay time of Antwerpen."
   ]
  },
  {
   "cell_type": "code",
   "execution_count": 61,
   "metadata": {},
   "outputs": [
    {
     "data": {
      "text/plain": [
       "5.45"
      ]
     },
     "execution_count": 61,
     "metadata": {},
     "output_type": "execute_result"
    }
   ],
   "source": [
    "\n",
    "# Your code\n",
    "delay_ant = delay_data[\"Antwerpen\"]\n",
    "delay_ant"
   ]
  },
  {
   "cell_type": "markdown",
   "metadata": {},
   "source": [
    "Rumors say that train company *Chuck Chuck* only labels a train as delayed when they arrive at least 6 minutes late. Filter the series to only show the stations with an average delay of at least 6 minutes. Save the resulting Series in a new variable."
   ]
  },
  {
   "cell_type": "code",
   "execution_count": 59,
   "metadata": {},
   "outputs": [
    {
     "data": {
      "text/plain": [
       "Brussel-Centraal    8.34\n",
       "Hasselt             6.08\n",
       "dtype: float64"
      ]
     },
     "execution_count": 59,
     "metadata": {},
     "output_type": "execute_result"
    }
   ],
   "source": [
    "# Your code\n",
    "six_plus = train_delay[train_delay >= 6]\n",
    "six_plus"
   ]
  },
  {
   "cell_type": "markdown",
   "metadata": {},
   "source": [
    "Oops, there was a wrong data entry in the data set. The average train delay in Brussel-Centraal is not 6.34 min but 8.34 min. Change the data of our Series train_delay."
   ]
  },
  {
   "cell_type": "code",
   "execution_count": 53,
   "metadata": {},
   "outputs": [
    {
     "data": {
      "text/plain": [
       "Brussel-Centraal      8.34\n",
       "Antwerpen-Centraal    5.45\n",
       "Brugge                4.12\n",
       "Gent-Sint-Pieters     2.45\n",
       "Hasselt               6.08\n",
       "dtype: float64"
      ]
     },
     "execution_count": 53,
     "metadata": {},
     "output_type": "execute_result"
    }
   ],
   "source": [
    "# Your code\n",
    "train_delay[\"Brussel-Centraal\"] = 8.34\n",
    "train_delay"
   ]
  },
  {
   "cell_type": "markdown",
   "metadata": {},
   "source": [
    "Display following data using the appropriate attribute.\n",
    "* The indices of the Series\n",
    "* The values of the Series\n",
    "* How many values the Series contains\n",
    "* The datatype of the elements of the Series"
   ]
  },
  {
   "cell_type": "code",
   "execution_count": 63,
   "metadata": {},
   "outputs": [
    {
     "name": "stdout",
     "output_type": "stream",
     "text": [
      "Index(['Brussel-Centraal', 'Antwerpen-Centraal', 'Brugge', 'Gent-Sint-Pieters',\n",
      "       'Hasselt'],\n",
      "      dtype='object')\n",
      "[8.34 5.45 4.12 2.45 6.08]\n",
      "5\n",
      "float64\n"
     ]
    }
   ],
   "source": [
    "# Your code\n",
    "print(train_delay.index)\n",
    "print(train_delay.values)\n",
    "print(train_delay.size)\n",
    "print(train_delay.dtype)"
   ]
  },
  {
   "cell_type": "markdown",
   "metadata": {},
   "source": [
    "## 2. Zoo animals"
   ]
  },
  {
   "cell_type": "markdown",
   "metadata": {},
   "source": [
    "`Animal_counts` is a dictionary containing the amount of animals of a certain type are living in the local zoo. \n"
   ]
  },
  {
   "cell_type": "code",
   "execution_count": 110,
   "metadata": {},
   "outputs": [],
   "source": [
    "animal_counts = {\n",
    "    \"Lion\": 5,\n",
    "    \"Elephant\": 3,\n",
    "    \"Giraffe\": 7,\n",
    "    \"Zebra\": 12,\n",
    "    \"Kangaroo\": 4,\n",
    "    \"Penguin\": 15,\n",
    "    \"Panda\": 2,\n",
    "    \"Tiger\": 6,\n",
    "    \"Flamingo\": 8,\n",
    "    \"Crocodile\": 3\n",
    "}"
   ]
  },
  {
   "cell_type": "markdown",
   "metadata": {},
   "source": [
    "**Basic Series operations**\n",
    "* Create a Series `zoo_animals` using this dictionary\n",
    "* Show how many Giraffes and Tigers there are.\n",
    "* Print the total number of animals in the zoo.\n",
    "* Print the list of animal species.\n",
    "* Print the list of animal counts."
   ]
  },
  {
   "cell_type": "code",
   "execution_count": 115,
   "metadata": {},
   "outputs": [
    {
     "name": "stdout",
     "output_type": "stream",
     "text": [
      "Giraffe    7\n",
      "Tiger      6\n",
      "dtype: int64\n",
      "Total number of animals in the zoo: 65\n",
      "Index(['Lion', 'Elephant', 'Giraffe', 'Zebra', 'Kangaroo', 'Penguin', 'Panda',\n",
      "       'Tiger', 'Flamingo', 'Crocodile'],\n",
      "      dtype='object')\n",
      "[ 5  3  7 12  4 15  2  6  8  3]\n"
     ]
    }
   ],
   "source": [
    "# Your code\n",
    "zoo_animals = pd.Series(animal_counts)\n",
    "gir_tig = pd.Series(zoo_animals, index=[\"Giraffe\", \"Tiger\"])\n",
    "print(gir_tig)\n",
    "print(\"Total number of animals in the zoo:\", zoo_animals.sum())\n",
    "print(zoo_animals.index)\n",
    "print(zoo_animals.values)"
   ]
  },
  {
   "cell_type": "markdown",
   "metadata": {},
   "source": [
    "**Filtering and data manipulation**\n",
    "* Display the animals who are at least with 5 of their kind.\n",
    "* Create a new Series only containing the data of the animals with a count of 3 or less.\n",
    "* Jippieeee! A panda was born! Increase the number of pandas with 1.\n",
    "* Joan the Crocodile has found a lover in the Berlin zoo and moves together with their 2 mates to Berlin. Remove the crocodile data from the Series.\n",
    "* Oops, we forgot to count the Koala's. Add 3 koala's to the Series."
   ]
  },
  {
   "cell_type": "code",
   "execution_count": 120,
   "metadata": {},
   "outputs": [
    {
     "name": "stdout",
     "output_type": "stream",
     "text": [
      "Display the animals who are at least with 5 of their kind.\n",
      "Lion         5\n",
      "Giraffe      7\n",
      "Zebra       12\n",
      "Penguin     15\n",
      "Tiger        6\n",
      "Flamingo     8\n",
      "dtype: int64\n",
      "Create a new Series only containing the data of the animals with a count of 3 or less.\n",
      "Elephant     3\n",
      "Panda        2\n",
      "Crocodile    3\n",
      "dtype: int64\n",
      "Increase the number of pandas with 1.\n",
      "Lion          5\n",
      "Elephant      3\n",
      "Giraffe       7\n",
      "Zebra        12\n",
      "Kangaroo      4\n",
      "Penguin      15\n",
      "Panda         3\n",
      "Tiger         6\n",
      "Flamingo      8\n",
      "Crocodile     3\n",
      "dtype: int64\n",
      "Remove the crocodile data from the Series.\n",
      "Lion         5\n",
      "Elephant     3\n",
      "Giraffe      7\n",
      "Zebra       12\n",
      "Kangaroo     4\n",
      "Penguin     15\n",
      "Panda        3\n",
      "Tiger        6\n",
      "Flamingo     8\n",
      "dtype: int64\n",
      "Add 3 koala's to the Series.\n",
      "Lion         5\n",
      "Elephant     3\n",
      "Giraffe      7\n",
      "Zebra       12\n",
      "Kangaroo     4\n",
      "Penguin     15\n",
      "Panda        3\n",
      "Tiger        6\n",
      "Flamingo     8\n",
      "Koala        3\n",
      "dtype: int64\n"
     ]
    }
   ],
   "source": [
    "# Your code\n",
    "zoo_animals = pd.Series(animal_counts)\n",
    "\n",
    "print(\"Display the animals who are at least with 5 of their kind.\")\n",
    "print(zoo_animals[zoo_animals >= 5])\n",
    "\n",
    "print(\"Create a new Series only containing the data of the animals with a count of 3 or less.\")\n",
    "three_or_less = zoo_animals[zoo_animals <= 3]\n",
    "print(three_or_less)\n",
    "\n",
    "print(\"Increase the number of pandas with 1.\")\n",
    "zoo_animals[\"Panda\"] +=1\n",
    "print(zoo_animals)\n",
    "\n",
    "print(\"Remove the crocodile data from the Series.\")\n",
    "zoo_animals = zoo_animals.drop(labels=[\"Crocodile\"])\n",
    "print(zoo_animals)\n",
    "\n",
    "print(\"Add 3 koala's to the Series.\")\n",
    "zoo_animals[\"Koala\"] = 3\n",
    "print(zoo_animals)\n",
    "\n"
   ]
  }
 ],
 "metadata": {
  "kernelspec": {
   "display_name": "Python 3",
   "language": "python",
   "name": "python3"
  },
  "language_info": {
   "codemirror_mode": {
    "name": "ipython",
    "version": 3
   },
   "file_extension": ".py",
   "mimetype": "text/x-python",
   "name": "python",
   "nbconvert_exporter": "python",
   "pygments_lexer": "ipython3",
   "version": "3.12.6"
  }
 },
 "nbformat": 4,
 "nbformat_minor": 2
}
